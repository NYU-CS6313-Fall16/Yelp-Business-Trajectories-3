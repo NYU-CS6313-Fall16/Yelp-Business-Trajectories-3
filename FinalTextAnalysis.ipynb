{
 "cells": [
  {
   "cell_type": "markdown",
   "metadata": {},
   "source": [
    "Data Clean and Merge"
   ]
  },
  {
   "cell_type": "code",
   "execution_count": 99,
   "metadata": {
    "collapsed": false
   },
   "outputs": [],
   "source": [
    "import pandas as pd\n",
    "from collections import Counter\n",
    "import warnings\n",
    "warnings.filterwarnings('ignore')\n",
    "import numpy as np"
   ]
  },
  {
   "cell_type": "code",
   "execution_count": 100,
   "metadata": {
    "collapsed": false
   },
   "outputs": [
    {
     "data": {
      "text/html": [
       "<div>\n",
       "<table border=\"1\" class=\"dataframe\">\n",
       "  <thead>\n",
       "    <tr style=\"text-align: right;\">\n",
       "      <th></th>\n",
       "      <th>business_id</th>\n",
       "      <th>text</th>\n",
       "    </tr>\n",
       "  </thead>\n",
       "  <tbody>\n",
       "    <tr>\n",
       "      <th>0</th>\n",
       "      <td>5UmKMjUEUNdYWqANhGckJw</td>\n",
       "      <td>Pizza is garbage. Hoagies are excellent.</td>\n",
       "    </tr>\n",
       "    <tr>\n",
       "      <th>1</th>\n",
       "      <td>cE27W9VPgO88Qxe4ol6y_g</td>\n",
       "      <td>Don't waste your time.</td>\n",
       "    </tr>\n",
       "    <tr>\n",
       "      <th>2</th>\n",
       "      <td>mVHrayjG3uZ_RLHkLj-AMg</td>\n",
       "      <td>Not easy to find. Be sure to put in directions...</td>\n",
       "    </tr>\n",
       "    <tr>\n",
       "      <th>3</th>\n",
       "      <td>mVHrayjG3uZ_RLHkLj-AMg</td>\n",
       "      <td>Your GPS will not allow you to find this place...</td>\n",
       "    </tr>\n",
       "    <tr>\n",
       "      <th>4</th>\n",
       "      <td>KayYbHCt-RkbGcPdGOThNg</td>\n",
       "      <td>Great drink specials!</td>\n",
       "    </tr>\n",
       "  </tbody>\n",
       "</table>\n",
       "</div>"
      ],
      "text/plain": [
       "              business_id                                               text\n",
       "0  5UmKMjUEUNdYWqANhGckJw           Pizza is garbage. Hoagies are excellent.\n",
       "1  cE27W9VPgO88Qxe4ol6y_g                             Don't waste your time.\n",
       "2  mVHrayjG3uZ_RLHkLj-AMg  Not easy to find. Be sure to put in directions...\n",
       "3  mVHrayjG3uZ_RLHkLj-AMg  Your GPS will not allow you to find this place...\n",
       "4  KayYbHCt-RkbGcPdGOThNg                              Great drink specials!"
      ]
     },
     "execution_count": 100,
     "metadata": {},
     "output_type": "execute_result"
    }
   ],
   "source": [
    "tips = pd.read_csv('yelp_academic_dataset_tip.csv')\n",
    "tips = tips.drop('type',axis=1)\n",
    "tips = tips.drop('likes',axis=1)\n",
    "tips = tips.drop('user_id',axis=1)\n",
    "tips = tips.drop('date',axis=1)\n",
    "tips.head()"
   ]
  },
  {
   "cell_type": "code",
   "execution_count": 101,
   "metadata": {
    "collapsed": false
   },
   "outputs": [
    {
     "data": {
      "text/html": [
       "<div>\n",
       "<table border=\"1\" class=\"dataframe\">\n",
       "  <thead>\n",
       "    <tr style=\"text-align: right;\">\n",
       "      <th></th>\n",
       "      <th>business_id</th>\n",
       "      <th>text</th>\n",
       "    </tr>\n",
       "  </thead>\n",
       "  <tbody>\n",
       "    <tr>\n",
       "      <th>0</th>\n",
       "      <td>5UmKMjUEUNdYWqANhGckJw</td>\n",
       "      <td>pizza is garbage hoagies are excellent</td>\n",
       "    </tr>\n",
       "    <tr>\n",
       "      <th>1</th>\n",
       "      <td>cE27W9VPgO88Qxe4ol6y_g</td>\n",
       "      <td>dont waste your time</td>\n",
       "    </tr>\n",
       "    <tr>\n",
       "      <th>2</th>\n",
       "      <td>mVHrayjG3uZ_RLHkLj-AMg</td>\n",
       "      <td>not easy to find be sure to put in directions ...</td>\n",
       "    </tr>\n",
       "    <tr>\n",
       "      <th>3</th>\n",
       "      <td>mVHrayjG3uZ_RLHkLj-AMg</td>\n",
       "      <td>your gps will not allow you to find this place...</td>\n",
       "    </tr>\n",
       "    <tr>\n",
       "      <th>4</th>\n",
       "      <td>KayYbHCt-RkbGcPdGOThNg</td>\n",
       "      <td>great drink specials</td>\n",
       "    </tr>\n",
       "  </tbody>\n",
       "</table>\n",
       "</div>"
      ],
      "text/plain": [
       "              business_id                                               text\n",
       "0  5UmKMjUEUNdYWqANhGckJw             pizza is garbage hoagies are excellent\n",
       "1  cE27W9VPgO88Qxe4ol6y_g                               dont waste your time\n",
       "2  mVHrayjG3uZ_RLHkLj-AMg  not easy to find be sure to put in directions ...\n",
       "3  mVHrayjG3uZ_RLHkLj-AMg  your gps will not allow you to find this place...\n",
       "4  KayYbHCt-RkbGcPdGOThNg                               great drink specials"
      ]
     },
     "execution_count": 101,
     "metadata": {},
     "output_type": "execute_result"
    }
   ],
   "source": [
    "tips['text'] = tips['text'].str.lower()\n",
    "tips['text'] = tips['text'].str.replace('[^\\w\\s]','')\n",
    "tips.head()"
   ]
  },
  {
   "cell_type": "code",
   "execution_count": 102,
   "metadata": {
    "collapsed": false
   },
   "outputs": [
    {
     "data": {
      "text/html": [
       "<div>\n",
       "<table border=\"1\" class=\"dataframe\">\n",
       "  <thead>\n",
       "    <tr style=\"text-align: right;\">\n",
       "      <th></th>\n",
       "      <th>text</th>\n",
       "    </tr>\n",
       "    <tr>\n",
       "      <th>business_id</th>\n",
       "      <th></th>\n",
       "    </tr>\n",
       "  </thead>\n",
       "  <tbody>\n",
       "    <tr>\n",
       "      <th>--0ZoBTQWQra1FxD4rBWmg</th>\n",
       "      <td>[dont ignore the reviews this management compa...</td>\n",
       "    </tr>\n",
       "    <tr>\n",
       "      <th>--1emggGHgoG6ipd_RMb-g</th>\n",
       "      <td>[its a gas station nothing special, the temp o...</td>\n",
       "    </tr>\n",
       "    <tr>\n",
       "      <th>--4Pe8BZ6gj57VFL5mUE8g</th>\n",
       "      <td>[best customer service  thank you michael, ite...</td>\n",
       "    </tr>\n",
       "    <tr>\n",
       "      <th>--5jkZ3-nUPZxUvtcbr8Uw</th>\n",
       "      <td>[try the greek sampler, fast friendly great gy...</td>\n",
       "    </tr>\n",
       "    <tr>\n",
       "      <th>--BlvDO_RG2yElKu9XA1_g</th>\n",
       "      <td>[good food, tried the hawaiian fried rice curr...</td>\n",
       "    </tr>\n",
       "  </tbody>\n",
       "</table>\n",
       "</div>"
      ],
      "text/plain": [
       "                                                                     text\n",
       "business_id                                                              \n",
       "--0ZoBTQWQra1FxD4rBWmg  [dont ignore the reviews this management compa...\n",
       "--1emggGHgoG6ipd_RMb-g  [its a gas station nothing special, the temp o...\n",
       "--4Pe8BZ6gj57VFL5mUE8g  [best customer service  thank you michael, ite...\n",
       "--5jkZ3-nUPZxUvtcbr8Uw  [try the greek sampler, fast friendly great gy...\n",
       "--BlvDO_RG2yElKu9XA1_g  [good food, tried the hawaiian fried rice curr..."
      ]
     },
     "execution_count": 102,
     "metadata": {},
     "output_type": "execute_result"
    }
   ],
   "source": [
    "group = tips.groupby('business_id')\n",
    "tips = group.aggregate(lambda x: list(x))\n",
    "tips.head()"
   ]
  },
  {
   "cell_type": "code",
   "execution_count": 103,
   "metadata": {
    "collapsed": false
   },
   "outputs": [
    {
     "data": {
      "text/html": [
       "<div>\n",
       "<table border=\"1\" class=\"dataframe\">\n",
       "  <thead>\n",
       "    <tr style=\"text-align: right;\">\n",
       "      <th></th>\n",
       "      <th>business_id</th>\n",
       "      <th>text</th>\n",
       "    </tr>\n",
       "  </thead>\n",
       "  <tbody>\n",
       "    <tr>\n",
       "      <th>0</th>\n",
       "      <td>--0ZoBTQWQra1FxD4rBWmg</td>\n",
       "      <td>[dont ignore the reviews this management compa...</td>\n",
       "    </tr>\n",
       "    <tr>\n",
       "      <th>1</th>\n",
       "      <td>--1emggGHgoG6ipd_RMb-g</td>\n",
       "      <td>[its a gas station nothing special, the temp o...</td>\n",
       "    </tr>\n",
       "    <tr>\n",
       "      <th>2</th>\n",
       "      <td>--4Pe8BZ6gj57VFL5mUE8g</td>\n",
       "      <td>[best customer service  thank you michael, ite...</td>\n",
       "    </tr>\n",
       "    <tr>\n",
       "      <th>3</th>\n",
       "      <td>--5jkZ3-nUPZxUvtcbr8Uw</td>\n",
       "      <td>[try the greek sampler, fast friendly great gy...</td>\n",
       "    </tr>\n",
       "    <tr>\n",
       "      <th>4</th>\n",
       "      <td>--BlvDO_RG2yElKu9XA1_g</td>\n",
       "      <td>[good food, tried the hawaiian fried rice curr...</td>\n",
       "    </tr>\n",
       "  </tbody>\n",
       "</table>\n",
       "</div>"
      ],
      "text/plain": [
       "              business_id                                               text\n",
       "0  --0ZoBTQWQra1FxD4rBWmg  [dont ignore the reviews this management compa...\n",
       "1  --1emggGHgoG6ipd_RMb-g  [its a gas station nothing special, the temp o...\n",
       "2  --4Pe8BZ6gj57VFL5mUE8g  [best customer service  thank you michael, ite...\n",
       "3  --5jkZ3-nUPZxUvtcbr8Uw  [try the greek sampler, fast friendly great gy...\n",
       "4  --BlvDO_RG2yElKu9XA1_g  [good food, tried the hawaiian fried rice curr..."
      ]
     },
     "execution_count": 103,
     "metadata": {},
     "output_type": "execute_result"
    }
   ],
   "source": [
    "tips.reset_index(level=0, inplace=True)\n",
    "tips.head()"
   ]
  },
  {
   "cell_type": "code",
   "execution_count": 104,
   "metadata": {
    "collapsed": false
   },
   "outputs": [
    {
     "data": {
      "text/plain": [
       "(57495, 2)"
      ]
     },
     "execution_count": 104,
     "metadata": {},
     "output_type": "execute_result"
    }
   ],
   "source": [
    "tips.shape"
   ]
  },
  {
   "cell_type": "code",
   "execution_count": 107,
   "metadata": {
    "collapsed": false
   },
   "outputs": [
    {
     "name": "stdout",
     "output_type": "stream",
     "text": [
      "0\n",
      "1000\n",
      "2000\n",
      "3000\n",
      "4000\n",
      "5000\n",
      "6000\n",
      "7000\n",
      "8000\n",
      "9000\n",
      "10000\n",
      "11000\n",
      "12000\n",
      "13000\n",
      "14000\n",
      "15000\n",
      "16000\n",
      "17000\n",
      "18000\n",
      "19000\n",
      "20000\n",
      "21000\n",
      "22000\n",
      "23000\n",
      "24000\n",
      "25000\n",
      "26000\n",
      "27000\n",
      "28000\n",
      "29000\n",
      "30000\n",
      "31000\n",
      "32000\n",
      "33000\n",
      "34000\n",
      "35000\n",
      "36000\n",
      "37000\n",
      "38000\n",
      "39000\n",
      "40000\n",
      "41000\n",
      "42000\n",
      "43000\n",
      "44000\n",
      "45000\n",
      "46000\n",
      "47000\n",
      "48000\n",
      "49000\n",
      "50000\n",
      "51000\n",
      "52000\n",
      "53000\n",
      "54000\n",
      "55000\n",
      "56000\n",
      "57000\n"
     ]
    },
    {
     "data": {
      "text/html": [
       "<div>\n",
       "<table border=\"1\" class=\"dataframe\">\n",
       "  <thead>\n",
       "    <tr style=\"text-align: right;\">\n",
       "      <th></th>\n",
       "      <th>business_id</th>\n",
       "      <th>text</th>\n",
       "    </tr>\n",
       "  </thead>\n",
       "  <tbody>\n",
       "    <tr>\n",
       "      <th>0</th>\n",
       "      <td>--0ZoBTQWQra1FxD4rBWmg</td>\n",
       "      <td>{and, ive, code, dont, people, doing, is, gett...</td>\n",
       "    </tr>\n",
       "    <tr>\n",
       "      <th>1</th>\n",
       "      <td>--1emggGHgoG6ipd_RMb-g</td>\n",
       "      <td>{and, heater, is, beer, nothing, inn, been, it...</td>\n",
       "    </tr>\n",
       "    <tr>\n",
       "      <th>2</th>\n",
       "      <td>--4Pe8BZ6gj57VFL5mUE8g</td>\n",
       "      <td>{customer, on, and, thank, service, items, mic...</td>\n",
       "    </tr>\n",
       "    <tr>\n",
       "      <th>3</th>\n",
       "      <td>--5jkZ3-nUPZxUvtcbr8Uw</td>\n",
       "      <td>{cute, just, contemporary, still, its, staff, ...</td>\n",
       "    </tr>\n",
       "    <tr>\n",
       "      <th>4</th>\n",
       "      <td>--BlvDO_RG2yElKu9XA1_g</td>\n",
       "      <td>{all, nongreasy, chinese, hampton, chicken, in...</td>\n",
       "    </tr>\n",
       "  </tbody>\n",
       "</table>\n",
       "</div>"
      ],
      "text/plain": [
       "              business_id                                               text\n",
       "0  --0ZoBTQWQra1FxD4rBWmg  {and, ive, code, dont, people, doing, is, gett...\n",
       "1  --1emggGHgoG6ipd_RMb-g  {and, heater, is, beer, nothing, inn, been, it...\n",
       "2  --4Pe8BZ6gj57VFL5mUE8g  {customer, on, and, thank, service, items, mic...\n",
       "3  --5jkZ3-nUPZxUvtcbr8Uw  {cute, just, contemporary, still, its, staff, ...\n",
       "4  --BlvDO_RG2yElKu9XA1_g  {all, nongreasy, chinese, hampton, chicken, in..."
      ]
     },
     "execution_count": 107,
     "metadata": {},
     "output_type": "execute_result"
    }
   ],
   "source": [
    "for i in tips.index: \n",
    "    if (i % 1000==0):\n",
    "        print i,\n",
    "    business_words = set(' '.join(tips['text'][i]).split())\n",
    "    tips['text'][i] = business_words\n",
    "tips.head()"
   ]
  },
  {
   "cell_type": "code",
   "execution_count": 108,
   "metadata": {
    "collapsed": true
   },
   "outputs": [],
   "source": [
    "tips.to_csv('business_words.csv',index=False)"
   ]
  },
  {
   "cell_type": "code",
   "execution_count": null,
   "metadata": {
    "collapsed": true
   },
   "outputs": [],
   "source": []
  },
  {
   "cell_type": "code",
   "execution_count": null,
   "metadata": {
    "collapsed": true
   },
   "outputs": [],
   "source": []
  },
  {
   "cell_type": "code",
   "execution_count": null,
   "metadata": {
    "collapsed": true
   },
   "outputs": [],
   "source": []
  },
  {
   "cell_type": "code",
   "execution_count": null,
   "metadata": {
    "collapsed": true
   },
   "outputs": [],
   "source": []
  },
  {
   "cell_type": "code",
   "execution_count": null,
   "metadata": {
    "collapsed": true
   },
   "outputs": [],
   "source": []
  },
  {
   "cell_type": "code",
   "execution_count": null,
   "metadata": {
    "collapsed": true
   },
   "outputs": [],
   "source": []
  },
  {
   "cell_type": "code",
   "execution_count": null,
   "metadata": {
    "collapsed": true
   },
   "outputs": [],
   "source": []
  },
  {
   "cell_type": "code",
   "execution_count": null,
   "metadata": {
    "collapsed": true
   },
   "outputs": [],
   "source": []
  },
  {
   "cell_type": "code",
   "execution_count": null,
   "metadata": {
    "collapsed": true
   },
   "outputs": [],
   "source": []
  },
  {
   "cell_type": "code",
   "execution_count": null,
   "metadata": {
    "collapsed": true
   },
   "outputs": [],
   "source": []
  },
  {
   "cell_type": "code",
   "execution_count": null,
   "metadata": {
    "collapsed": true
   },
   "outputs": [],
   "source": []
  },
  {
   "cell_type": "code",
   "execution_count": 42,
   "metadata": {
    "collapsed": false
   },
   "outputs": [],
   "source": [
    "vocab_count = ' '.join(data['text'].tolist()).split()"
   ]
  },
  {
   "cell_type": "code",
   "execution_count": 43,
   "metadata": {
    "collapsed": false
   },
   "outputs": [],
   "source": [
    "cnt = Counter()\n",
    "for word in vocab_count:\n",
    "    cnt[word] += 1"
   ]
  },
  {
   "cell_type": "code",
   "execution_count": 48,
   "metadata": {
    "collapsed": false
   },
   "outputs": [
    {
     "data": {
      "text/html": [
       "<div>\n",
       "<table border=\"1\" class=\"dataframe\">\n",
       "  <thead>\n",
       "    <tr style=\"text-align: right;\">\n",
       "      <th></th>\n",
       "      <th>Word</th>\n",
       "      <th>Word Count</th>\n",
       "    </tr>\n",
       "  </thead>\n",
       "  <tbody>\n",
       "    <tr>\n",
       "      <th>0</th>\n",
       "      <td>woods</td>\n",
       "      <td>40</td>\n",
       "    </tr>\n",
       "    <tr>\n",
       "      <th>1</th>\n",
       "      <td>hanging</td>\n",
       "      <td>472</td>\n",
       "    </tr>\n",
       "    <tr>\n",
       "      <th>2</th>\n",
       "      <td>woody</td>\n",
       "      <td>39</td>\n",
       "    </tr>\n",
       "    <tr>\n",
       "      <th>3</th>\n",
       "      <td>gae</td>\n",
       "      <td>8</td>\n",
       "    </tr>\n",
       "    <tr>\n",
       "      <th>4</th>\n",
       "      <td>canes</td>\n",
       "      <td>92</td>\n",
       "    </tr>\n",
       "  </tbody>\n",
       "</table>\n",
       "</div>"
      ],
      "text/plain": [
       "      Word  Word Count\n",
       "0    woods          40\n",
       "1  hanging         472\n",
       "2    woody          39\n",
       "3      gae           8\n",
       "4    canes          92"
      ]
     },
     "execution_count": 48,
     "metadata": {},
     "output_type": "execute_result"
    }
   ],
   "source": [
    "word_counts = pd.DataFrame.from_dict(cnt, orient='index').reset_index()\n",
    "word_counts.columns = ['Word', 'Word Count']\n",
    "word_counts.head()"
   ]
  },
  {
   "cell_type": "code",
   "execution_count": 46,
   "metadata": {
    "collapsed": false
   },
   "outputs": [],
   "source": [
    "for i in range(len(vocab_count)):\n",
    "    word = vocab_count[i] \n",
    "    word_count = cnt[word]\n",
    "    if word_count < 5:\n",
    "        del cnt[word] \n",
    "    else:\n",
    "        pass"
   ]
  },
  {
   "cell_type": "code",
   "execution_count": 33,
   "metadata": {
    "collapsed": true
   },
   "outputs": [],
   "source": [
    "vocab = list(cnt)"
   ]
  },
  {
   "cell_type": "code",
   "execution_count": 34,
   "metadata": {
    "collapsed": false
   },
   "outputs": [],
   "source": [
    "sentiment_list = []\n",
    "not_modeled_list = []\n",
    "for word in vocab:\n",
    "    try:\n",
    "        sentiment = determine_coefficient(word)\n",
    "        sentiment_list.append(sentiment)\n",
    "    except:\n",
    "        not_modeled_list.append(word)\n",
    "vocab = set(vocab) - set(not_modeled_list)    \n",
    "vocab = list(vocab)"
   ]
  },
  {
   "cell_type": "code",
   "execution_count": 35,
   "metadata": {
    "collapsed": false
   },
   "outputs": [
    {
     "data": {
      "text/html": [
       "<div>\n",
       "<table border=\"1\" class=\"dataframe\">\n",
       "  <thead>\n",
       "    <tr style=\"text-align: right;\">\n",
       "      <th></th>\n",
       "      <th>Sentiment</th>\n",
       "      <th>Word</th>\n",
       "    </tr>\n",
       "  </thead>\n",
       "  <tbody>\n",
       "    <tr>\n",
       "      <th>0</th>\n",
       "      <td>1.145606</td>\n",
       "      <td>raining</td>\n",
       "    </tr>\n",
       "    <tr>\n",
       "      <th>1</th>\n",
       "      <td>0.275232</td>\n",
       "      <td>vang</td>\n",
       "    </tr>\n",
       "    <tr>\n",
       "      <th>2</th>\n",
       "      <td>0.702242</td>\n",
       "      <td>ioane</td>\n",
       "    </tr>\n",
       "    <tr>\n",
       "      <th>3</th>\n",
       "      <td>-0.213470</td>\n",
       "      <td>yellow</td>\n",
       "    </tr>\n",
       "    <tr>\n",
       "      <th>4</th>\n",
       "      <td>0.344637</td>\n",
       "      <td>factory</td>\n",
       "    </tr>\n",
       "  </tbody>\n",
       "</table>\n",
       "</div>"
      ],
      "text/plain": [
       "   Sentiment     Word\n",
       "0   1.145606  raining\n",
       "1   0.275232     vang\n",
       "2   0.702242    ioane\n",
       "3  -0.213470   yellow\n",
       "4   0.344637  factory"
      ]
     },
     "execution_count": 35,
     "metadata": {},
     "output_type": "execute_result"
    }
   ],
   "source": [
    "sentiment_df = pd.DataFrame({'Word': vocab,'Sentiment': sentiment_list})\n",
    "sentiment_df.head()"
   ]
  },
  {
   "cell_type": "code",
   "execution_count": 38,
   "metadata": {
    "collapsed": true
   },
   "outputs": [],
   "source": [
    "sentiment_df.to_csv('sentiment_vocab_lookup.csv',index=False)"
   ]
  },
  {
   "cell_type": "code",
   "execution_count": 9,
   "metadata": {
    "collapsed": false
   },
   "outputs": [
    {
     "ename": "KeyboardInterrupt",
     "evalue": "",
     "output_type": "error",
     "traceback": [
      "\u001b[0;31m---------------------------------------------------------------------------\u001b[0m",
      "\u001b[0;31mKeyboardInterrupt\u001b[0m                         Traceback (most recent call last)",
      "\u001b[0;32m<ipython-input-9-14aaf26ee5f7>\u001b[0m in \u001b[0;36m<module>\u001b[0;34m()\u001b[0m\n\u001b[1;32m     13\u001b[0m \u001b[0;34m\u001b[0m\u001b[0m\n\u001b[1;32m     14\u001b[0m         \u001b[0ms\u001b[0m \u001b[0;34m=\u001b[0m \u001b[0mline\u001b[0m\u001b[0;34m.\u001b[0m\u001b[0msplit\u001b[0m\u001b[0;34m(\u001b[0m\u001b[0;34m)\u001b[0m\u001b[0;34m\u001b[0m\u001b[0m\n\u001b[0;32m---> 15\u001b[0;31m         \u001b[0mloaded_embeddings\u001b[0m\u001b[0;34m[\u001b[0m\u001b[0mi\u001b[0m\u001b[0;34m,\u001b[0m \u001b[0;34m:\u001b[0m\u001b[0;34m]\u001b[0m \u001b[0;34m=\u001b[0m \u001b[0mnp\u001b[0m\u001b[0;34m.\u001b[0m\u001b[0masarray\u001b[0m\u001b[0;34m(\u001b[0m\u001b[0ms\u001b[0m\u001b[0;34m[\u001b[0m\u001b[0;36m1\u001b[0m\u001b[0;34m:\u001b[0m\u001b[0;34m]\u001b[0m\u001b[0;34m)\u001b[0m\u001b[0;34m\u001b[0m\u001b[0m\n\u001b[0m\u001b[1;32m     16\u001b[0m         \u001b[0mwords\u001b[0m\u001b[0;34m[\u001b[0m\u001b[0ms\u001b[0m\u001b[0;34m[\u001b[0m\u001b[0;36m0\u001b[0m\u001b[0;34m]\u001b[0m\u001b[0;34m]\u001b[0m \u001b[0;34m=\u001b[0m \u001b[0mi\u001b[0m\u001b[0;34m\u001b[0m\u001b[0m\n\u001b[1;32m     17\u001b[0m         \u001b[0mordered_words\u001b[0m\u001b[0;34m.\u001b[0m\u001b[0mappend\u001b[0m\u001b[0;34m(\u001b[0m\u001b[0ms\u001b[0m\u001b[0;34m[\u001b[0m\u001b[0;36m0\u001b[0m\u001b[0;34m]\u001b[0m\u001b[0;34m)\u001b[0m\u001b[0;34m\u001b[0m\u001b[0m\n",
      "\u001b[0;31mKeyboardInterrupt\u001b[0m: "
     ]
    }
   ],
   "source": [
    "glove_home = '/Users/Laura/GoogleDrive/NYU/NLP/'\n",
    "words_to_load = 500000\n",
    "\n",
    "import numpy as np\n",
    "\n",
    "with open(glove_home + 'glove.6B.50d.txt') as f:\n",
    "    loaded_embeddings = np.zeros((words_to_load, 50))\n",
    "    words = {}\n",
    "    ordered_words = []\n",
    "    for i, line in enumerate(f):\n",
    "        if i >= words_to_load: \n",
    "            break\n",
    "        \n",
    "        s = line.split()\n",
    "        loaded_embeddings[i, :] = np.asarray(s[1:])\n",
    "        words[s[0]] = i\n",
    "        ordered_words.append(s[0])\n",
    "seed_pos = ['good', 'great', 'awesome', 'like', 'love']\n",
    "seed_neg = ['bad', 'awful', 'terrible', 'hate', 'dislike']\n",
    "seed_pos_indices = [words[seed] for seed in seed_pos]\n",
    "seed_neg_indices = [words[seed] for seed in seed_neg]\n",
    "seed_pos_mat = loaded_embeddings[seed_pos_indices]\n",
    "seed_neg_mat = loaded_embeddings[seed_neg_indices]\n",
    "from sklearn.metrics.pairwise import cosine_similarity\n",
    "\n",
    "def determine_coefficient(candidate_word):\n",
    "    candidate = loaded_embeddings[words[candidate_word]]\n",
    "    pos_sim = np.sum([cosine_similarity(candidate, reference) for reference in seed_pos_mat])\n",
    "    neg_sim = np.sum([cosine_similarity(candidate, reference) for reference in seed_neg_mat])\n",
    "    return pos_sim - neg_sim  \n",
    "determine_coefficient('abhorrent')"
   ]
  },
  {
   "cell_type": "code",
   "execution_count": 50,
   "metadata": {
    "collapsed": false
   },
   "outputs": [],
   "source": [
    "data = pd.merge(sentiment_df,word_counts, on='Word')"
   ]
  },
  {
   "cell_type": "code",
   "execution_count": 51,
   "metadata": {
    "collapsed": false
   },
   "outputs": [
    {
     "data": {
      "text/html": [
       "<div>\n",
       "<table border=\"1\" class=\"dataframe\">\n",
       "  <thead>\n",
       "    <tr style=\"text-align: right;\">\n",
       "      <th></th>\n",
       "      <th>Sentiment</th>\n",
       "      <th>Word</th>\n",
       "      <th>Word Count</th>\n",
       "    </tr>\n",
       "  </thead>\n",
       "  <tbody>\n",
       "    <tr>\n",
       "      <th>0</th>\n",
       "      <td>1.145606</td>\n",
       "      <td>raining</td>\n",
       "      <td>50</td>\n",
       "    </tr>\n",
       "    <tr>\n",
       "      <th>1</th>\n",
       "      <td>0.275232</td>\n",
       "      <td>vang</td>\n",
       "      <td>10</td>\n",
       "    </tr>\n",
       "    <tr>\n",
       "      <th>2</th>\n",
       "      <td>0.702242</td>\n",
       "      <td>ioane</td>\n",
       "      <td>5</td>\n",
       "    </tr>\n",
       "    <tr>\n",
       "      <th>3</th>\n",
       "      <td>-0.213470</td>\n",
       "      <td>yellow</td>\n",
       "      <td>369</td>\n",
       "    </tr>\n",
       "    <tr>\n",
       "      <th>4</th>\n",
       "      <td>0.344637</td>\n",
       "      <td>factory</td>\n",
       "      <td>186</td>\n",
       "    </tr>\n",
       "  </tbody>\n",
       "</table>\n",
       "</div>"
      ],
      "text/plain": [
       "   Sentiment     Word  Word Count\n",
       "0   1.145606  raining          50\n",
       "1   0.275232     vang          10\n",
       "2   0.702242    ioane           5\n",
       "3  -0.213470   yellow         369\n",
       "4   0.344637  factory         186"
      ]
     },
     "execution_count": 51,
     "metadata": {},
     "output_type": "execute_result"
    }
   ],
   "source": [
    "data.head()"
   ]
  },
  {
   "cell_type": "code",
   "execution_count": 53,
   "metadata": {
    "collapsed": false
   },
   "outputs": [
    {
     "data": {
      "text/html": [
       "<div>\n",
       "<table border=\"1\" class=\"dataframe\">\n",
       "  <thead>\n",
       "    <tr style=\"text-align: right;\">\n",
       "      <th></th>\n",
       "      <th>Sentiment</th>\n",
       "      <th>Word</th>\n",
       "      <th>Word Count</th>\n",
       "      <th>Log Word Count</th>\n",
       "    </tr>\n",
       "  </thead>\n",
       "  <tbody>\n",
       "    <tr>\n",
       "      <th>0</th>\n",
       "      <td>1.145606</td>\n",
       "      <td>raining</td>\n",
       "      <td>50</td>\n",
       "      <td>3.912023</td>\n",
       "    </tr>\n",
       "    <tr>\n",
       "      <th>1</th>\n",
       "      <td>0.275232</td>\n",
       "      <td>vang</td>\n",
       "      <td>10</td>\n",
       "      <td>2.302585</td>\n",
       "    </tr>\n",
       "    <tr>\n",
       "      <th>2</th>\n",
       "      <td>0.702242</td>\n",
       "      <td>ioane</td>\n",
       "      <td>5</td>\n",
       "      <td>1.609438</td>\n",
       "    </tr>\n",
       "    <tr>\n",
       "      <th>3</th>\n",
       "      <td>-0.213470</td>\n",
       "      <td>yellow</td>\n",
       "      <td>369</td>\n",
       "      <td>5.910797</td>\n",
       "    </tr>\n",
       "    <tr>\n",
       "      <th>4</th>\n",
       "      <td>0.344637</td>\n",
       "      <td>factory</td>\n",
       "      <td>186</td>\n",
       "      <td>5.225747</td>\n",
       "    </tr>\n",
       "  </tbody>\n",
       "</table>\n",
       "</div>"
      ],
      "text/plain": [
       "   Sentiment     Word  Word Count  Log Word Count\n",
       "0   1.145606  raining          50        3.912023\n",
       "1   0.275232     vang          10        2.302585\n",
       "2   0.702242    ioane           5        1.609438\n",
       "3  -0.213470   yellow         369        5.910797\n",
       "4   0.344637  factory         186        5.225747"
      ]
     },
     "execution_count": 53,
     "metadata": {},
     "output_type": "execute_result"
    }
   ],
   "source": [
    "data['Log Word Count'] = data['Word Count'].apply(lambda x:np.log(x))\n",
    "data.head()"
   ]
  },
  {
   "cell_type": "code",
   "execution_count": 54,
   "metadata": {
    "collapsed": false
   },
   "outputs": [
    {
     "data": {
      "text/html": [
       "<div>\n",
       "<table border=\"1\" class=\"dataframe\">\n",
       "  <thead>\n",
       "    <tr style=\"text-align: right;\">\n",
       "      <th></th>\n",
       "      <th>Sentiment</th>\n",
       "      <th>Word</th>\n",
       "      <th>Log Word Count</th>\n",
       "    </tr>\n",
       "  </thead>\n",
       "  <tbody>\n",
       "    <tr>\n",
       "      <th>0</th>\n",
       "      <td>1.145606</td>\n",
       "      <td>raining</td>\n",
       "      <td>3.912023</td>\n",
       "    </tr>\n",
       "    <tr>\n",
       "      <th>1</th>\n",
       "      <td>0.275232</td>\n",
       "      <td>vang</td>\n",
       "      <td>2.302585</td>\n",
       "    </tr>\n",
       "    <tr>\n",
       "      <th>2</th>\n",
       "      <td>0.702242</td>\n",
       "      <td>ioane</td>\n",
       "      <td>1.609438</td>\n",
       "    </tr>\n",
       "    <tr>\n",
       "      <th>3</th>\n",
       "      <td>-0.213470</td>\n",
       "      <td>yellow</td>\n",
       "      <td>5.910797</td>\n",
       "    </tr>\n",
       "    <tr>\n",
       "      <th>4</th>\n",
       "      <td>0.344637</td>\n",
       "      <td>factory</td>\n",
       "      <td>5.225747</td>\n",
       "    </tr>\n",
       "  </tbody>\n",
       "</table>\n",
       "</div>"
      ],
      "text/plain": [
       "   Sentiment     Word  Log Word Count\n",
       "0   1.145606  raining        3.912023\n",
       "1   0.275232     vang        2.302585\n",
       "2   0.702242    ioane        1.609438\n",
       "3  -0.213470   yellow        5.910797\n",
       "4   0.344637  factory        5.225747"
      ]
     },
     "execution_count": 54,
     "metadata": {},
     "output_type": "execute_result"
    }
   ],
   "source": [
    "data = data.drop('Word Count',axis=1)\n",
    "data.head()"
   ]
  },
  {
   "cell_type": "code",
   "execution_count": 55,
   "metadata": {
    "collapsed": true
   },
   "outputs": [],
   "source": [
    "data.to_csv('word_sentiment_freq.csv', index=False)"
   ]
  },
  {
   "cell_type": "code",
   "execution_count": null,
   "metadata": {
    "collapsed": true
   },
   "outputs": [],
   "source": []
  },
  {
   "cell_type": "code",
   "execution_count": null,
   "metadata": {
    "collapsed": true
   },
   "outputs": [],
   "source": []
  },
  {
   "cell_type": "code",
   "execution_count": 4,
   "metadata": {
    "collapsed": false
   },
   "outputs": [
    {
     "data": {
      "text/html": [
       "<div>\n",
       "<table border=\"1\" class=\"dataframe\">\n",
       "  <thead>\n",
       "    <tr style=\"text-align: right;\">\n",
       "      <th></th>\n",
       "      <th>business_id</th>\n",
       "      <th>categories</th>\n",
       "    </tr>\n",
       "  </thead>\n",
       "  <tbody>\n",
       "    <tr>\n",
       "      <th>0</th>\n",
       "      <td>5UmKMjUEUNdYWqANhGckJw</td>\n",
       "      <td>Fast Food,Restaurants</td>\n",
       "    </tr>\n",
       "    <tr>\n",
       "      <th>1</th>\n",
       "      <td>UsFtqoBl7naz8AVUBZMjQQ</td>\n",
       "      <td>Nightlife</td>\n",
       "    </tr>\n",
       "    <tr>\n",
       "      <th>2</th>\n",
       "      <td>cE27W9VPgO88Qxe4ol6y_g</td>\n",
       "      <td>Active Life,Mini Golf,Golf</td>\n",
       "    </tr>\n",
       "    <tr>\n",
       "      <th>3</th>\n",
       "      <td>mVHrayjG3uZ_RLHkLj-AMg</td>\n",
       "      <td>Bars,American (New),Nightlife,Lounges,Restaurants</td>\n",
       "    </tr>\n",
       "    <tr>\n",
       "      <th>4</th>\n",
       "      <td>mYSpR_SLPgUVymYOvTQd_Q</td>\n",
       "      <td>Active Life,Golf</td>\n",
       "    </tr>\n",
       "  </tbody>\n",
       "</table>\n",
       "</div>"
      ],
      "text/plain": [
       "              business_id                                         categories\n",
       "0  5UmKMjUEUNdYWqANhGckJw                              Fast Food,Restaurants\n",
       "1  UsFtqoBl7naz8AVUBZMjQQ                                          Nightlife\n",
       "2  cE27W9VPgO88Qxe4ol6y_g                         Active Life,Mini Golf,Golf\n",
       "3  mVHrayjG3uZ_RLHkLj-AMg  Bars,American (New),Nightlife,Lounges,Restaurants\n",
       "4  mYSpR_SLPgUVymYOvTQd_Q                                   Active Life,Golf"
      ]
     },
     "execution_count": 4,
     "metadata": {},
     "output_type": "execute_result"
    }
   ],
   "source": [
    "good_states = ['AZ','NV','NC','QC','PA','WI']\n",
    "businesses = businesses.loc[businesses['state'].isin(good_states)]\n",
    "businesses = businesses.drop('state',axis=1)\n",
    "businesses = businesses.reset_index(drop=True)\n",
    "businesses.head()"
   ]
  },
  {
   "cell_type": "code",
   "execution_count": null,
   "metadata": {
    "collapsed": true
   },
   "outputs": [],
   "source": []
  },
  {
   "cell_type": "code",
   "execution_count": null,
   "metadata": {
    "collapsed": true
   },
   "outputs": [],
   "source": []
  },
  {
   "cell_type": "code",
   "execution_count": null,
   "metadata": {
    "collapsed": true
   },
   "outputs": [],
   "source": []
  },
  {
   "cell_type": "code",
   "execution_count": null,
   "metadata": {
    "collapsed": true
   },
   "outputs": [],
   "source": []
  },
  {
   "cell_type": "code",
   "execution_count": null,
   "metadata": {
    "collapsed": true
   },
   "outputs": [],
   "source": []
  },
  {
   "cell_type": "code",
   "execution_count": null,
   "metadata": {
    "collapsed": true
   },
   "outputs": [],
   "source": []
  },
  {
   "cell_type": "code",
   "execution_count": null,
   "metadata": {
    "collapsed": true
   },
   "outputs": [],
   "source": []
  },
  {
   "cell_type": "code",
   "execution_count": null,
   "metadata": {
    "collapsed": true
   },
   "outputs": [],
   "source": []
  },
  {
   "cell_type": "code",
   "execution_count": null,
   "metadata": {
    "collapsed": true
   },
   "outputs": [],
   "source": []
  },
  {
   "cell_type": "code",
   "execution_count": null,
   "metadata": {
    "collapsed": true
   },
   "outputs": [],
   "source": []
  },
  {
   "cell_type": "code",
   "execution_count": 3,
   "metadata": {
    "collapsed": false
   },
   "outputs": [
    {
     "data": {
      "text/html": [
       "<div>\n",
       "<table border=\"1\" class=\"dataframe\">\n",
       "  <thead>\n",
       "    <tr style=\"text-align: right;\">\n",
       "      <th></th>\n",
       "      <th>business_id</th>\n",
       "      <th>categories</th>\n",
       "      <th>state</th>\n",
       "    </tr>\n",
       "  </thead>\n",
       "  <tbody>\n",
       "    <tr>\n",
       "      <th>0</th>\n",
       "      <td>5UmKMjUEUNdYWqANhGckJw</td>\n",
       "      <td>Fast Food,Restaurants</td>\n",
       "      <td>PA</td>\n",
       "    </tr>\n",
       "    <tr>\n",
       "      <th>1</th>\n",
       "      <td>UsFtqoBl7naz8AVUBZMjQQ</td>\n",
       "      <td>Nightlife</td>\n",
       "      <td>PA</td>\n",
       "    </tr>\n",
       "    <tr>\n",
       "      <th>2</th>\n",
       "      <td>cE27W9VPgO88Qxe4ol6y_g</td>\n",
       "      <td>Active Life,Mini Golf,Golf</td>\n",
       "      <td>PA</td>\n",
       "    </tr>\n",
       "    <tr>\n",
       "      <th>3</th>\n",
       "      <td>mVHrayjG3uZ_RLHkLj-AMg</td>\n",
       "      <td>Bars,American (New),Nightlife,Lounges,Restaurants</td>\n",
       "      <td>PA</td>\n",
       "    </tr>\n",
       "    <tr>\n",
       "      <th>4</th>\n",
       "      <td>mYSpR_SLPgUVymYOvTQd_Q</td>\n",
       "      <td>Active Life,Golf</td>\n",
       "      <td>PA</td>\n",
       "    </tr>\n",
       "  </tbody>\n",
       "</table>\n",
       "</div>"
      ],
      "text/plain": [
       "              business_id                                         categories  \\\n",
       "0  5UmKMjUEUNdYWqANhGckJw                              Fast Food,Restaurants   \n",
       "1  UsFtqoBl7naz8AVUBZMjQQ                                          Nightlife   \n",
       "2  cE27W9VPgO88Qxe4ol6y_g                         Active Life,Mini Golf,Golf   \n",
       "3  mVHrayjG3uZ_RLHkLj-AMg  Bars,American (New),Nightlife,Lounges,Restaurants   \n",
       "4  mYSpR_SLPgUVymYOvTQd_Q                                   Active Life,Golf   \n",
       "\n",
       "  state  \n",
       "0    PA  \n",
       "1    PA  \n",
       "2    PA  \n",
       "3    PA  \n",
       "4    PA  "
      ]
     },
     "execution_count": 3,
     "metadata": {},
     "output_type": "execute_result"
    }
   ],
   "source": [
    "business_fields = ['business_id','categories','state']\n",
    "businesses = pd.read_csv('yelp_academic_dataset_business.csv', skipinitialspace=True, usecols=business_fields)\n",
    "businesses.head()"
   ]
  },
  {
   "cell_type": "code",
   "execution_count": null,
   "metadata": {
    "collapsed": true
   },
   "outputs": [],
   "source": []
  },
  {
   "cell_type": "code",
   "execution_count": 26,
   "metadata": {
    "collapsed": false
   },
   "outputs": [
    {
     "data": {
      "text/html": [
       "<div>\n",
       "<table border=\"1\" class=\"dataframe\">\n",
       "  <thead>\n",
       "    <tr style=\"text-align: right;\">\n",
       "      <th></th>\n",
       "      <th>business_id</th>\n",
       "      <th>broad_categories</th>\n",
       "    </tr>\n",
       "  </thead>\n",
       "  <tbody>\n",
       "    <tr>\n",
       "      <th>0</th>\n",
       "      <td>5UmKMjUEUNdYWqANhGckJw</td>\n",
       "      <td>Eateries</td>\n",
       "    </tr>\n",
       "    <tr>\n",
       "      <th>1</th>\n",
       "      <td>UsFtqoBl7naz8AVUBZMjQQ</td>\n",
       "      <td>Lifestyle &amp; Entertainment</td>\n",
       "    </tr>\n",
       "    <tr>\n",
       "      <th>2</th>\n",
       "      <td>cE27W9VPgO88Qxe4ol6y_g</td>\n",
       "      <td>Health &amp; Beauty</td>\n",
       "    </tr>\n",
       "    <tr>\n",
       "      <th>3</th>\n",
       "      <td>mVHrayjG3uZ_RLHkLj-AMg</td>\n",
       "      <td>Eateries</td>\n",
       "    </tr>\n",
       "    <tr>\n",
       "      <th>4</th>\n",
       "      <td>mYSpR_SLPgUVymYOvTQd_Q</td>\n",
       "      <td>Health &amp; Beauty</td>\n",
       "    </tr>\n",
       "  </tbody>\n",
       "</table>\n",
       "</div>"
      ],
      "text/plain": [
       "              business_id           broad_categories\n",
       "0  5UmKMjUEUNdYWqANhGckJw                   Eateries\n",
       "1  UsFtqoBl7naz8AVUBZMjQQ  Lifestyle & Entertainment\n",
       "2  cE27W9VPgO88Qxe4ol6y_g            Health & Beauty\n",
       "3  mVHrayjG3uZ_RLHkLj-AMg                   Eateries\n",
       "4  mYSpR_SLPgUVymYOvTQd_Q            Health & Beauty"
      ]
     },
     "execution_count": 26,
     "metadata": {},
     "output_type": "execute_result"
    }
   ],
   "source": [
    "categories_list = businesses['categories'].tolist()\n",
    "broad_categories = []\n",
    "for i in businesses.index:\n",
    "    category = str(categories_list[i])\n",
    "    if 'Restaurants' in category or 'Food' in category:\n",
    "        new_category = 'Eateries'\n",
    "    elif 'Shopping' in category or  'Hotel' in category or 'Nightlife' in category or 'Entertainment' in category:\n",
    "        new_category = 'Lifestyle & Entertainment'\n",
    "    elif 'Medical' in category or 'Active' in category or 'Fitness' in category or 'Beauty' in category:\n",
    "        new_category = 'Health & Beauty'\n",
    "    elif 'Auto' in category:\n",
    "        new_category = 'Auto'\n",
    "    else:\n",
    "        new_category = 'Others'\n",
    "    broad_categories.append(new_category)\n",
    "businesses['broad_categories'] = broad_categories \n",
    "businesses = businesses.drop('categories',axis=1)\n",
    "businesses.head()"
   ]
  },
  {
   "cell_type": "code",
   "execution_count": null,
   "metadata": {
    "collapsed": true
   },
   "outputs": [],
   "source": []
  },
  {
   "cell_type": "code",
   "execution_count": 341,
   "metadata": {
    "collapsed": false
   },
   "outputs": [
    {
     "name": "stdout",
     "output_type": "stream",
     "text": [
      "0\n",
      "1000\n",
      "2000\n"
     ]
    },
    {
     "ename": "KeyboardInterrupt",
     "evalue": "",
     "output_type": "error",
     "traceback": [
      "\u001b[0;31m---------------------------------------------------------------------------\u001b[0m",
      "\u001b[0;31mKeyboardInterrupt\u001b[0m                         Traceback (most recent call last)",
      "\u001b[0;32m<ipython-input-341-55c6c11bec46>\u001b[0m in \u001b[0;36m<module>\u001b[0;34m()\u001b[0m\n\u001b[1;32m      7\u001b[0m     \u001b[0mwords\u001b[0m \u001b[0;34m=\u001b[0m \u001b[0mtext\u001b[0m\u001b[0;34m.\u001b[0m\u001b[0msplit\u001b[0m\u001b[0;34m(\u001b[0m\u001b[0;34m)\u001b[0m\u001b[0;34m\u001b[0m\u001b[0m\n\u001b[1;32m      8\u001b[0m     \u001b[0;32mfor\u001b[0m \u001b[0mw\u001b[0m \u001b[0;32min\u001b[0m \u001b[0mwords\u001b[0m\u001b[0;34m:\u001b[0m\u001b[0;34m\u001b[0m\u001b[0m\n\u001b[0;32m----> 9\u001b[0;31m         \u001b[0msentiment\u001b[0m \u001b[0;34m=\u001b[0m \u001b[0mlist\u001b[0m\u001b[0;34m(\u001b[0m\u001b[0msentiment_df\u001b[0m\u001b[0;34m.\u001b[0m\u001b[0mloc\u001b[0m\u001b[0;34m[\u001b[0m\u001b[0msentiment_df\u001b[0m\u001b[0;34m[\u001b[0m\u001b[0;34m'Word'\u001b[0m\u001b[0;34m]\u001b[0m \u001b[0;34m==\u001b[0m \u001b[0mw\u001b[0m\u001b[0;34m]\u001b[0m\u001b[0;34m[\u001b[0m\u001b[0;34m'Sentiment'\u001b[0m\u001b[0;34m]\u001b[0m\u001b[0;34m)\u001b[0m\u001b[0;34m\u001b[0m\u001b[0m\n\u001b[0m\u001b[1;32m     10\u001b[0m         \u001b[0;32mif\u001b[0m \u001b[0mlen\u001b[0m\u001b[0;34m(\u001b[0m\u001b[0msentiment\u001b[0m\u001b[0;34m)\u001b[0m \u001b[0;34m>\u001b[0m \u001b[0;36m0\u001b[0m\u001b[0;34m:\u001b[0m\u001b[0;34m\u001b[0m\u001b[0m\n\u001b[1;32m     11\u001b[0m             \u001b[0msentiment_each_word\u001b[0m\u001b[0;34m.\u001b[0m\u001b[0mappend\u001b[0m\u001b[0;34m(\u001b[0m\u001b[0msentiment\u001b[0m\u001b[0;34m)\u001b[0m\u001b[0;34m\u001b[0m\u001b[0m\n",
      "\u001b[0;32m/Users/Laura/anaconda/lib/python2.7/site-packages/pandas/core/ops.pyc\u001b[0m in \u001b[0;36mwrapper\u001b[0;34m(self, other, axis)\u001b[0m\n\u001b[1;32m    769\u001b[0m             \u001b[0mres\u001b[0m \u001b[0;34m=\u001b[0m \u001b[0m_values_from_object\u001b[0m\u001b[0;34m(\u001b[0m\u001b[0mres\u001b[0m\u001b[0;34m)\u001b[0m\u001b[0;34m\u001b[0m\u001b[0m\n\u001b[1;32m    770\u001b[0m \u001b[0;34m\u001b[0m\u001b[0m\n\u001b[0;32m--> 771\u001b[0;31m         \u001b[0mres\u001b[0m \u001b[0;34m=\u001b[0m \u001b[0mpd\u001b[0m\u001b[0;34m.\u001b[0m\u001b[0mSeries\u001b[0m\u001b[0;34m(\u001b[0m\u001b[0mres\u001b[0m\u001b[0;34m,\u001b[0m \u001b[0mindex\u001b[0m\u001b[0;34m=\u001b[0m\u001b[0mself\u001b[0m\u001b[0;34m.\u001b[0m\u001b[0mindex\u001b[0m\u001b[0;34m,\u001b[0m \u001b[0mname\u001b[0m\u001b[0;34m=\u001b[0m\u001b[0mself\u001b[0m\u001b[0;34m.\u001b[0m\u001b[0mname\u001b[0m\u001b[0;34m,\u001b[0m \u001b[0mdtype\u001b[0m\u001b[0;34m=\u001b[0m\u001b[0;34m'bool'\u001b[0m\u001b[0;34m)\u001b[0m\u001b[0;34m\u001b[0m\u001b[0m\n\u001b[0m\u001b[1;32m    772\u001b[0m         \u001b[0;32mreturn\u001b[0m \u001b[0mres\u001b[0m\u001b[0;34m\u001b[0m\u001b[0m\n\u001b[1;32m    773\u001b[0m \u001b[0;34m\u001b[0m\u001b[0m\n",
      "\u001b[0;32m/Users/Laura/anaconda/lib/python2.7/site-packages/pandas/core/series.pyc\u001b[0m in \u001b[0;36m__init__\u001b[0;34m(self, data, index, dtype, name, copy, fastpath)\u001b[0m\n\u001b[1;32m    231\u001b[0m         \u001b[0mgeneric\u001b[0m\u001b[0;34m.\u001b[0m\u001b[0mNDFrame\u001b[0m\u001b[0;34m.\u001b[0m\u001b[0m__init__\u001b[0m\u001b[0;34m(\u001b[0m\u001b[0mself\u001b[0m\u001b[0;34m,\u001b[0m \u001b[0mdata\u001b[0m\u001b[0;34m,\u001b[0m \u001b[0mfastpath\u001b[0m\u001b[0;34m=\u001b[0m\u001b[0mTrue\u001b[0m\u001b[0;34m)\u001b[0m\u001b[0;34m\u001b[0m\u001b[0m\n\u001b[1;32m    232\u001b[0m \u001b[0;34m\u001b[0m\u001b[0m\n\u001b[0;32m--> 233\u001b[0;31m         \u001b[0mself\u001b[0m\u001b[0;34m.\u001b[0m\u001b[0mname\u001b[0m \u001b[0;34m=\u001b[0m \u001b[0mname\u001b[0m\u001b[0;34m\u001b[0m\u001b[0m\n\u001b[0m\u001b[1;32m    234\u001b[0m         \u001b[0mself\u001b[0m\u001b[0;34m.\u001b[0m\u001b[0m_set_axis\u001b[0m\u001b[0;34m(\u001b[0m\u001b[0;36m0\u001b[0m\u001b[0;34m,\u001b[0m \u001b[0mindex\u001b[0m\u001b[0;34m,\u001b[0m \u001b[0mfastpath\u001b[0m\u001b[0;34m=\u001b[0m\u001b[0mTrue\u001b[0m\u001b[0;34m)\u001b[0m\u001b[0;34m\u001b[0m\u001b[0m\n\u001b[1;32m    235\u001b[0m \u001b[0;34m\u001b[0m\u001b[0m\n",
      "\u001b[0;32m/Users/Laura/anaconda/lib/python2.7/site-packages/pandas/core/generic.pyc\u001b[0m in \u001b[0;36m__setattr__\u001b[0;34m(self, name, value)\u001b[0m\n\u001b[1;32m   2684\u001b[0m             \u001b[0mobject\u001b[0m\u001b[0;34m.\u001b[0m\u001b[0m__getattribute__\u001b[0m\u001b[0;34m(\u001b[0m\u001b[0mself\u001b[0m\u001b[0;34m,\u001b[0m \u001b[0mname\u001b[0m\u001b[0;34m)\u001b[0m\u001b[0;34m\u001b[0m\u001b[0m\n\u001b[1;32m   2685\u001b[0m             \u001b[0;32mreturn\u001b[0m \u001b[0mobject\u001b[0m\u001b[0;34m.\u001b[0m\u001b[0m__setattr__\u001b[0m\u001b[0;34m(\u001b[0m\u001b[0mself\u001b[0m\u001b[0;34m,\u001b[0m \u001b[0mname\u001b[0m\u001b[0;34m,\u001b[0m \u001b[0mvalue\u001b[0m\u001b[0;34m)\u001b[0m\u001b[0;34m\u001b[0m\u001b[0m\n\u001b[0;32m-> 2686\u001b[0;31m         \u001b[0;32mexcept\u001b[0m \u001b[0mAttributeError\u001b[0m\u001b[0;34m:\u001b[0m\u001b[0;34m\u001b[0m\u001b[0m\n\u001b[0m\u001b[1;32m   2687\u001b[0m             \u001b[0;32mpass\u001b[0m\u001b[0;34m\u001b[0m\u001b[0m\n\u001b[1;32m   2688\u001b[0m \u001b[0;34m\u001b[0m\u001b[0m\n",
      "\u001b[0;31mKeyboardInterrupt\u001b[0m: "
     ]
    }
   ],
   "source": [
    "sentiment_average_list = []\n",
    "for i in data.index:\n",
    "    if (i % 1000==0):\n",
    "        print i\n",
    "    sentiment_each_word = []\n",
    "    text = data['text'][i]\n",
    "    words = text.split()\n",
    "    for w in words:\n",
    "        sentiment = list(sentiment_df.loc[sentiment_df['Word'] == w]['Sentiment'])\n",
    "        if len(sentiment) > 0:\n",
    "            sentiment_each_word.append(sentiment)\n",
    "        else:\n",
    "            pass\n",
    "    sentiment_average = np.mean(sentiment_each_word)\n",
    "    sentiment_average_list.append(sentiment_average)\n",
    "data['average_sentiment'] = sentiment_average_list"
   ]
  },
  {
   "cell_type": "code",
   "execution_count": 344,
   "metadata": {
    "collapsed": false
   },
   "outputs": [
    {
     "data": {
      "text/plain": [
       "2505"
      ]
     },
     "execution_count": 344,
     "metadata": {},
     "output_type": "execute_result"
    }
   ],
   "source": [
    "len(sentiment_average_list)"
   ]
  },
  {
   "cell_type": "code",
   "execution_count": 345,
   "metadata": {
    "collapsed": false
   },
   "outputs": [
    {
     "data": {
      "text/plain": [
       "639079"
      ]
     },
     "execution_count": 345,
     "metadata": {},
     "output_type": "execute_result"
    }
   ],
   "source": [
    "temp = sentiment_average_list + [0]*(len(data) - len(sentiment_average_list))\n",
    "len(temp)"
   ]
  },
  {
   "cell_type": "code",
   "execution_count": 419,
   "metadata": {
    "collapsed": true
   },
   "outputs": [],
   "source": [
    "data['average_sentiment'] = temp"
   ]
  },
  {
   "cell_type": "code",
   "execution_count": 429,
   "metadata": {
    "collapsed": false
   },
   "outputs": [],
   "source": [
    "#data = data.drop('stars',axis=1)\n",
    "#date = []\n",
    "#for i in data.index:\n",
    "#   s= '-'\n",
    "#   seq = (str(data.year[i]),str(data.month[i]),'01')\n",
    "#   date.append(s.join(seq))\n",
    "#data['date'] = date\n",
    "#data = data.drop('year',axis=1)\n",
    "#data = data.drop('month',axis=1)"
   ]
  },
  {
   "cell_type": "code",
   "execution_count": 436,
   "metadata": {
    "collapsed": false
   },
   "outputs": [
    {
     "data": {
      "text/html": [
       "<div>\n",
       "<table border=\"1\" class=\"dataframe\">\n",
       "  <thead>\n",
       "    <tr style=\"text-align: right;\">\n",
       "      <th></th>\n",
       "      <th>business_id</th>\n",
       "      <th>broad_categories</th>\n",
       "      <th>text</th>\n",
       "      <th>average_sentiment</th>\n",
       "      <th>date</th>\n",
       "    </tr>\n",
       "  </thead>\n",
       "  <tbody>\n",
       "    <tr>\n",
       "      <th>0</th>\n",
       "      <td>5UmKMjUEUNdYWqANhGckJw</td>\n",
       "      <td>Eateries</td>\n",
       "      <td>pizza is garbage hoagies are excellent</td>\n",
       "      <td>0.393774</td>\n",
       "      <td>2016-07-01</td>\n",
       "    </tr>\n",
       "    <tr>\n",
       "      <th>1</th>\n",
       "      <td>cE27W9VPgO88Qxe4ol6y_g</td>\n",
       "      <td>Health &amp; Beauty</td>\n",
       "      <td>dont waste your time</td>\n",
       "      <td>0.273090</td>\n",
       "      <td>2013-04-01</td>\n",
       "    </tr>\n",
       "    <tr>\n",
       "      <th>2</th>\n",
       "      <td>mVHrayjG3uZ_RLHkLj-AMg</td>\n",
       "      <td>Eateries</td>\n",
       "      <td>not easy to find be sure to put in directions ...</td>\n",
       "      <td>0.251693</td>\n",
       "      <td>2016-02-01</td>\n",
       "    </tr>\n",
       "    <tr>\n",
       "      <th>3</th>\n",
       "      <td>mVHrayjG3uZ_RLHkLj-AMg</td>\n",
       "      <td>Eateries</td>\n",
       "      <td>your gps will not allow you to find this place...</td>\n",
       "      <td>0.207499</td>\n",
       "      <td>2013-01-01</td>\n",
       "    </tr>\n",
       "    <tr>\n",
       "      <th>4</th>\n",
       "      <td>KayYbHCt-RkbGcPdGOThNg</td>\n",
       "      <td>Eateries</td>\n",
       "      <td>great drink specials</td>\n",
       "      <td>0.725087</td>\n",
       "      <td>2013-12-01</td>\n",
       "    </tr>\n",
       "  </tbody>\n",
       "</table>\n",
       "</div>"
      ],
      "text/plain": [
       "              business_id broad_categories  \\\n",
       "0  5UmKMjUEUNdYWqANhGckJw         Eateries   \n",
       "1  cE27W9VPgO88Qxe4ol6y_g  Health & Beauty   \n",
       "2  mVHrayjG3uZ_RLHkLj-AMg         Eateries   \n",
       "3  mVHrayjG3uZ_RLHkLj-AMg         Eateries   \n",
       "4  KayYbHCt-RkbGcPdGOThNg         Eateries   \n",
       "\n",
       "                                                text  average_sentiment  \\\n",
       "0             pizza is garbage hoagies are excellent           0.393774   \n",
       "1                               dont waste your time           0.273090   \n",
       "2  not easy to find be sure to put in directions ...           0.251693   \n",
       "3  your gps will not allow you to find this place...           0.207499   \n",
       "4                               great drink specials           0.725087   \n",
       "\n",
       "         date  \n",
       "0  2016-07-01  \n",
       "1  2013-04-01  \n",
       "2  2016-02-01  \n",
       "3  2013-01-01  \n",
       "4  2013-12-01  "
      ]
     },
     "execution_count": 436,
     "metadata": {},
     "output_type": "execute_result"
    }
   ],
   "source": [
    "data.head()"
   ]
  },
  {
   "cell_type": "code",
   "execution_count": 437,
   "metadata": {
    "collapsed": true
   },
   "outputs": [],
   "source": [
    "data.to_csv('sentiment_to_merge.csv',index=False)"
   ]
  },
  {
   "cell_type": "code",
   "execution_count": 464,
   "metadata": {
    "collapsed": false
   },
   "outputs": [
    {
     "data": {
      "text/plain": [
       "(639079, 6)"
      ]
     },
     "execution_count": 464,
     "metadata": {},
     "output_type": "execute_result"
    }
   ],
   "source": [
    "data.shape"
   ]
  },
  {
   "cell_type": "code",
   "execution_count": 465,
   "metadata": {
    "collapsed": false
   },
   "outputs": [],
   "source": [
    "stars = [1,2,3,4,5]\n",
    "#years = data['year'].unique()\n",
    "#months = data['month'].unique()\n",
    "categories = data['broad_categories'].unique()"
   ]
  },
  {
   "cell_type": "code",
   "execution_count": 466,
   "metadata": {
    "collapsed": false
   },
   "outputs": [
    {
     "name": "stdout",
     "output_type": "stream",
     "text": [
      "[[1 'Eateries']\n",
      " [1 'Health & Beauty']\n",
      " [1 'Others']\n",
      " [1 'Auto']\n",
      " [1 'Lifestyle & Entertainment']\n",
      " [2 'Eateries']\n",
      " [2 'Health & Beauty']\n",
      " [2 'Others']\n",
      " [2 'Auto']\n",
      " [2 'Lifestyle & Entertainment']\n",
      " [3 'Eateries']\n",
      " [3 'Health & Beauty']\n",
      " [3 'Others']\n",
      " [3 'Auto']\n",
      " [3 'Lifestyle & Entertainment']\n",
      " [4 'Eateries']\n",
      " [4 'Health & Beauty']\n",
      " [4 'Others']\n",
      " [4 'Auto']\n",
      " [4 'Lifestyle & Entertainment']\n",
      " [5 'Eateries']\n",
      " [5 'Health & Beauty']\n",
      " [5 'Others']\n",
      " [5 'Auto']\n",
      " [5 'Lifestyle & Entertainment']]\n"
     ]
    }
   ],
   "source": [
    "combos = []\n",
    "for a in stars:\n",
    "    for b in categories: \n",
    "        combos = combos + [a,b]\n",
    "combos = pd.Series(combos).values.reshape(len(combos)/2,2)\n",
    "print combos"
   ]
  },
  {
   "cell_type": "code",
   "execution_count": 467,
   "metadata": {
    "collapsed": false
   },
   "outputs": [],
   "source": [
    "combos_dataframe = pd.DataFrame(columns=['stars','broad_categories','word_count_dict'])"
   ]
  },
  {
   "cell_type": "code",
   "execution_count": 468,
   "metadata": {
    "collapsed": false
   },
   "outputs": [
    {
     "data": {
      "text/html": [
       "<div>\n",
       "<table border=\"1\" class=\"dataframe\">\n",
       "  <thead>\n",
       "    <tr style=\"text-align: right;\">\n",
       "      <th></th>\n",
       "      <th>stars</th>\n",
       "      <th>broad_categories</th>\n",
       "      <th>word_count_dict</th>\n",
       "    </tr>\n",
       "  </thead>\n",
       "  <tbody>\n",
       "  </tbody>\n",
       "</table>\n",
       "</div>"
      ],
      "text/plain": [
       "Empty DataFrame\n",
       "Columns: [stars, broad_categories, word_count_dict]\n",
       "Index: []"
      ]
     },
     "execution_count": 468,
     "metadata": {},
     "output_type": "execute_result"
    }
   ],
   "source": [
    "combos_dataframe.head()"
   ]
  },
  {
   "cell_type": "code",
   "execution_count": 471,
   "metadata": {
    "collapsed": false
   },
   "outputs": [
    {
     "data": {
      "text/html": [
       "<div>\n",
       "<table border=\"1\" class=\"dataframe\">\n",
       "  <thead>\n",
       "    <tr style=\"text-align: right;\">\n",
       "      <th></th>\n",
       "      <th>stars</th>\n",
       "      <th>broad_categories</th>\n",
       "      <th>word_count_dict</th>\n",
       "    </tr>\n",
       "  </thead>\n",
       "  <tbody>\n",
       "    <tr>\n",
       "      <th>0</th>\n",
       "      <td>1.0</td>\n",
       "      <td>Eateries</td>\n",
       "      <td>{u'limited': 1, u'all': 6, u'chinese': 3, u'ma...</td>\n",
       "    </tr>\n",
       "    <tr>\n",
       "      <th>1</th>\n",
       "      <td>1.0</td>\n",
       "      <td>Health &amp; Beauty</td>\n",
       "      <td>{u'limited': 1, u'all': 3, u'beware': 1, u'man...</td>\n",
       "    </tr>\n",
       "    <tr>\n",
       "      <th>2</th>\n",
       "      <td>1.0</td>\n",
       "      <td>Others</td>\n",
       "      <td>{u'neighbors': 3, u'limited': 1, u'all': 18, u...</td>\n",
       "    </tr>\n",
       "    <tr>\n",
       "      <th>3</th>\n",
       "      <td>1.0</td>\n",
       "      <td>Auto</td>\n",
       "      <td>{u'all': 3, u'manager': 1, u'go': 3, u'follow'...</td>\n",
       "    </tr>\n",
       "    <tr>\n",
       "      <th>4</th>\n",
       "      <td>1.0</td>\n",
       "      <td>Lifestyle &amp; Entertainment</td>\n",
       "      <td>{u'limited': 2, u'all': 1, u'liar': 3, u'switc...</td>\n",
       "    </tr>\n",
       "    <tr>\n",
       "      <th>5</th>\n",
       "      <td>2.0</td>\n",
       "      <td>Eateries</td>\n",
       "      <td>{u'yellow': 1, u'four': 4, u'prices': 70, u'ha...</td>\n",
       "    </tr>\n",
       "    <tr>\n",
       "      <th>6</th>\n",
       "      <td>2.0</td>\n",
       "      <td>Health &amp; Beauty</td>\n",
       "      <td>{u'limited': 1, u'jokedont': 1, u'demand': 1, ...</td>\n",
       "    </tr>\n",
       "    <tr>\n",
       "      <th>7</th>\n",
       "      <td>2.0</td>\n",
       "      <td>Others</td>\n",
       "      <td>{u'saves': 2, u'desirable': 1, u'felt': 1, u'f...</td>\n",
       "    </tr>\n",
       "    <tr>\n",
       "      <th>8</th>\n",
       "      <td>2.0</td>\n",
       "      <td>Auto</td>\n",
       "      <td>{u'todays': 1, u'yellow': 1, u'enoughdo': 1, u...</td>\n",
       "    </tr>\n",
       "    <tr>\n",
       "      <th>9</th>\n",
       "      <td>2.0</td>\n",
       "      <td>Lifestyle &amp; Entertainment</td>\n",
       "      <td>{u'limited': 1, u'ciao': 1, u'consolidated': 1...</td>\n",
       "    </tr>\n",
       "    <tr>\n",
       "      <th>10</th>\n",
       "      <td>3.0</td>\n",
       "      <td>Eateries</td>\n",
       "      <td>{u'raining': 3, u'yeahcheesecake': 1, u'woods'...</td>\n",
       "    </tr>\n",
       "    <tr>\n",
       "      <th>11</th>\n",
       "      <td>3.0</td>\n",
       "      <td>Health &amp; Beauty</td>\n",
       "      <td>{u'raining': 4, u'four': 7, u'hanging': 4, u's...</td>\n",
       "    </tr>\n",
       "    <tr>\n",
       "      <th>12</th>\n",
       "      <td>3.0</td>\n",
       "      <td>Others</td>\n",
       "      <td>{u'stock': 6, u'limited': 2, u'valve': 1, u'to...</td>\n",
       "    </tr>\n",
       "    <tr>\n",
       "      <th>13</th>\n",
       "      <td>3.0</td>\n",
       "      <td>Auto</td>\n",
       "      <td>{u'limited': 1, u'freshner': 1, u'whoops': 1, ...</td>\n",
       "    </tr>\n",
       "    <tr>\n",
       "      <th>14</th>\n",
       "      <td>3.0</td>\n",
       "      <td>Lifestyle &amp; Entertainment</td>\n",
       "      <td>{u'fawn': 1, u'raining': 4, u'middleman': 1, u...</td>\n",
       "    </tr>\n",
       "    <tr>\n",
       "      <th>15</th>\n",
       "      <td>4.0</td>\n",
       "      <td>Eateries</td>\n",
       "      <td>{u'vang': 9, u'saimin': 32, u'29items': 1, u'g...</td>\n",
       "    </tr>\n",
       "    <tr>\n",
       "      <th>16</th>\n",
       "      <td>4.0</td>\n",
       "      <td>Health &amp; Beauty</td>\n",
       "      <td>{u'fawn': 1, u'raining': 4, u'sonja': 2, u'fou...</td>\n",
       "    </tr>\n",
       "    <tr>\n",
       "      <th>17</th>\n",
       "      <td>4.0</td>\n",
       "      <td>Others</td>\n",
       "      <td>{u'raining': 2, u'yellow': 2, u'four': 8, u'ha...</td>\n",
       "    </tr>\n",
       "    <tr>\n",
       "      <th>18</th>\n",
       "      <td>4.0</td>\n",
       "      <td>Auto</td>\n",
       "      <td>{u'integrite': 1, u'raining': 1, u'justsayin':...</td>\n",
       "    </tr>\n",
       "    <tr>\n",
       "      <th>19</th>\n",
       "      <td>4.0</td>\n",
       "      <td>Lifestyle &amp; Entertainment</td>\n",
       "      <td>{u'raining': 5, u'115010751050': 1, u'darryll'...</td>\n",
       "    </tr>\n",
       "    <tr>\n",
       "      <th>20</th>\n",
       "      <td>5.0</td>\n",
       "      <td>Eateries</td>\n",
       "      <td>{u'yumyumyum': 1, u'limited': 10, u'superman':...</td>\n",
       "    </tr>\n",
       "    <tr>\n",
       "      <th>21</th>\n",
       "      <td>5.0</td>\n",
       "      <td>Health &amp; Beauty</td>\n",
       "      <td>{u'yellow': 1, u'four': 8, u'fous': 1, u'gabri...</td>\n",
       "    </tr>\n",
       "    <tr>\n",
       "      <th>22</th>\n",
       "      <td>5.0</td>\n",
       "      <td>Others</td>\n",
       "      <td>{u'limited': 5, u'todays': 3, u'hymns': 2, u'h...</td>\n",
       "    </tr>\n",
       "    <tr>\n",
       "      <th>23</th>\n",
       "      <td>5.0</td>\n",
       "      <td>Auto</td>\n",
       "      <td>{u'foud': 1, u'honman': 1, u'yeeessssss': 1, u...</td>\n",
       "    </tr>\n",
       "    <tr>\n",
       "      <th>24</th>\n",
       "      <td>5.0</td>\n",
       "      <td>Lifestyle &amp; Entertainment</td>\n",
       "      <td>{u'limited': 4, u'arrives': 1, u'khalil': 1, u...</td>\n",
       "    </tr>\n",
       "  </tbody>\n",
       "</table>\n",
       "</div>"
      ],
      "text/plain": [
       "    stars           broad_categories  \\\n",
       "0     1.0                   Eateries   \n",
       "1     1.0            Health & Beauty   \n",
       "2     1.0                     Others   \n",
       "3     1.0                       Auto   \n",
       "4     1.0  Lifestyle & Entertainment   \n",
       "5     2.0                   Eateries   \n",
       "6     2.0            Health & Beauty   \n",
       "7     2.0                     Others   \n",
       "8     2.0                       Auto   \n",
       "9     2.0  Lifestyle & Entertainment   \n",
       "10    3.0                   Eateries   \n",
       "11    3.0            Health & Beauty   \n",
       "12    3.0                     Others   \n",
       "13    3.0                       Auto   \n",
       "14    3.0  Lifestyle & Entertainment   \n",
       "15    4.0                   Eateries   \n",
       "16    4.0            Health & Beauty   \n",
       "17    4.0                     Others   \n",
       "18    4.0                       Auto   \n",
       "19    4.0  Lifestyle & Entertainment   \n",
       "20    5.0                   Eateries   \n",
       "21    5.0            Health & Beauty   \n",
       "22    5.0                     Others   \n",
       "23    5.0                       Auto   \n",
       "24    5.0  Lifestyle & Entertainment   \n",
       "\n",
       "                                      word_count_dict  \n",
       "0   {u'limited': 1, u'all': 6, u'chinese': 3, u'ma...  \n",
       "1   {u'limited': 1, u'all': 3, u'beware': 1, u'man...  \n",
       "2   {u'neighbors': 3, u'limited': 1, u'all': 18, u...  \n",
       "3   {u'all': 3, u'manager': 1, u'go': 3, u'follow'...  \n",
       "4   {u'limited': 2, u'all': 1, u'liar': 3, u'switc...  \n",
       "5   {u'yellow': 1, u'four': 4, u'prices': 70, u'ha...  \n",
       "6   {u'limited': 1, u'jokedont': 1, u'demand': 1, ...  \n",
       "7   {u'saves': 2, u'desirable': 1, u'felt': 1, u'f...  \n",
       "8   {u'todays': 1, u'yellow': 1, u'enoughdo': 1, u...  \n",
       "9   {u'limited': 1, u'ciao': 1, u'consolidated': 1...  \n",
       "10  {u'raining': 3, u'yeahcheesecake': 1, u'woods'...  \n",
       "11  {u'raining': 4, u'four': 7, u'hanging': 4, u's...  \n",
       "12  {u'stock': 6, u'limited': 2, u'valve': 1, u'to...  \n",
       "13  {u'limited': 1, u'freshner': 1, u'whoops': 1, ...  \n",
       "14  {u'fawn': 1, u'raining': 4, u'middleman': 1, u...  \n",
       "15  {u'vang': 9, u'saimin': 32, u'29items': 1, u'g...  \n",
       "16  {u'fawn': 1, u'raining': 4, u'sonja': 2, u'fou...  \n",
       "17  {u'raining': 2, u'yellow': 2, u'four': 8, u'ha...  \n",
       "18  {u'integrite': 1, u'raining': 1, u'justsayin':...  \n",
       "19  {u'raining': 5, u'115010751050': 1, u'darryll'...  \n",
       "20  {u'yumyumyum': 1, u'limited': 10, u'superman':...  \n",
       "21  {u'yellow': 1, u'four': 8, u'fous': 1, u'gabri...  \n",
       "22  {u'limited': 5, u'todays': 3, u'hymns': 2, u'h...  \n",
       "23  {u'foud': 1, u'honman': 1, u'yeeessssss': 1, u...  \n",
       "24  {u'limited': 4, u'arrives': 1, u'khalil': 1, u...  "
      ]
     },
     "execution_count": 471,
     "metadata": {},
     "output_type": "execute_result"
    }
   ],
   "source": [
    "cols=['stars','broad_categories','word_count_dict']\n",
    "for combo in combos[:100]: \n",
    "    star = combo[0]\n",
    "    category = combo[1]\n",
    "    data_slice = data.loc[(data.stars == star) & (data.broad_categories == category),['text']]\n",
    "    combo_vocab = ' '.join(data_slice['text'].tolist()).split()\n",
    "    cnt = Counter()\n",
    "    for word in combo_vocab:\n",
    "        cnt[word] += 1\n",
    "    entry = [star,category,cnt]\n",
    "    temp_dataframe = pd.DataFrame([entry],columns=cols)\n",
    "    combos_dataframe = combos_dataframe.append(temp_dataframe,ignore_index=True)\n",
    "combos_dataframe"
   ]
  },
  {
   "cell_type": "code",
   "execution_count": 473,
   "metadata": {
    "collapsed": false
   },
   "outputs": [],
   "source": [
    "combos_dataframe.to_csv('word_counts_in_combos.csv',index=0)"
   ]
  },
  {
   "cell_type": "code",
   "execution_count": null,
   "metadata": {
    "collapsed": true
   },
   "outputs": [],
   "source": []
  }
 ],
 "metadata": {
  "anaconda-cloud": {},
  "kernelspec": {
   "display_name": "Python [default]",
   "language": "python",
   "name": "python2"
  },
  "language_info": {
   "codemirror_mode": {
    "name": "ipython",
    "version": 2
   },
   "file_extension": ".py",
   "mimetype": "text/x-python",
   "name": "python",
   "nbconvert_exporter": "python",
   "pygments_lexer": "ipython2",
   "version": "2.7.12"
  }
 },
 "nbformat": 4,
 "nbformat_minor": 1
}
